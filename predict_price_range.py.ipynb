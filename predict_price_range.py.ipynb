{
 "cells": [
  {
   "cell_type": "code",
   "execution_count": 1,
   "id": "8002dde5",
   "metadata": {},
   "outputs": [
    {
     "name": "stdout",
     "output_type": "stream",
     "text": [
      "[3.8980676  1.82722222 0.50236545 ... 1.20008303 3.39929116 0.12988355]\n"
     ]
    },
    {
     "name": "stderr",
     "output_type": "stream",
     "text": [
      "C:\\ProgramData\\Anaconda3\\lib\\site-packages\\sklearn\\preprocessing\\_encoders.py:868: FutureWarning: `sparse` was renamed to `sparse_output` in version 1.2 and will be removed in 1.4. `sparse_output` is ignored unless you leave `sparse` to its default value.\n",
      "  warnings.warn(\n"
     ]
    }
   ],
   "source": [
    "# IMPORTs\n",
    "import numpy as np\n",
    "import pandas as pd\n",
    "\n",
    "from sklearn.preprocessing import OneHotEncoder\n",
    "\n",
    "import joblib\n",
    "\n",
    "# Load .joblib Model\n",
    "model = joblib.load('trained_model.joblib')\n",
    "\n",
    "categorical_cols = ['homeType', 'hasSpa', 'city']\n",
    "\n",
    "# PreProcessing function\n",
    "def preprocess_data(data):\n",
    "    encoder = OneHotEncoder(sparse=False, handle_unknown='ignore')\n",
    "    X_encoded = pd.DataFrame(encoder.fit_transform(data[categorical_cols]))\n",
    "    categories = [data[col].unique() for col in categorical_cols]\n",
    "    encoded_features = [f\"{col}_{cat}\" for i, col in enumerate(categorical_cols) for cat in categories[i]]\n",
    "    X_encoded.columns = encoded_features\n",
    "    X = pd.concat([X_encoded, data.drop(categorical_cols + ['priceRange'], axis=1)], axis=1)\n",
    "    \n",
    "    return encoder, encoded_features, X\n",
    "\n",
    "\n",
    "# PREDICT Function\n",
    "def predict_price_range(new_data, encoder, encoded_features):\n",
    "    new_data_encoded = pd.DataFrame(encoder.transform(new_data[categorical_cols]))\n",
    "    new_data_encoded.columns = encoded_features\n",
    "    new_data_preprocessed = pd.concat([new_data_encoded, new_data.drop(categorical_cols + ['description', 'priceRange', 'uid'], axis=1)], axis=1)\n",
    "    \n",
    "    predictions = model.predict(new_data_preprocessed)\n",
    "    \n",
    "    return predictions\n",
    "\n",
    "\n",
    "# Main function\n",
    "if __name__ == '__main__':\n",
    "    # load data\n",
    "    data = pd.read_csv('train.csv')\n",
    "    \n",
    "    # preprocess\n",
    "    encoder, encoded_features, X = preprocess_data(data)\n",
    "    \n",
    "    # test function\n",
    "    predictions = predict_price_range(data, encoder, encoded_features)\n",
    "    \n",
    "    print(predictions)\n",
    "\n",
    "\n",
    "\n",
    "# EXTRA\n",
    "# Main function with sys.args for DEPLOY in CLI Cloud systems\n",
    "\n",
    "# if __name__ == '__main__':\n",
    "#     new_data = sys.argv[1]\n",
    "#     encoder = sys.argv[2]\n",
    "#     encoded_features = sys.argv[3]\n",
    "#     predict_price_range()"
   ]
  },
  {
   "cell_type": "code",
   "execution_count": null,
   "id": "79661a6a",
   "metadata": {},
   "outputs": [],
   "source": []
  }
 ],
 "metadata": {
  "kernelspec": {
   "display_name": "Python 3 (ipykernel)",
   "language": "python",
   "name": "python3"
  },
  "language_info": {
   "codemirror_mode": {
    "name": "ipython",
    "version": 3
   },
   "file_extension": ".py",
   "mimetype": "text/x-python",
   "name": "python",
   "nbconvert_exporter": "python",
   "pygments_lexer": "ipython3",
   "version": "3.9.16"
  }
 },
 "nbformat": 4,
 "nbformat_minor": 5
}
