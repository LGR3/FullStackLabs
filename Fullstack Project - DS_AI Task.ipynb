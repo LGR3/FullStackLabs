{
 "cells": [
  {
   "cell_type": "markdown",
   "id": "d9a88519",
   "metadata": {},
   "source": [
    "# FullStack Project - DS / AI Task"
   ]
  },
  {
   "cell_type": "markdown",
   "id": "c8b792be",
   "metadata": {},
   "source": [
    "Developed by Lucas Glasner Regis in June 2023.  \n",
    "For FullStack.\n",
    "\n",
    "This code is delivered AS IS. No warranties."
   ]
  },
  {
   "cell_type": "code",
   "execution_count": 1,
   "id": "32d552e4",
   "metadata": {},
   "outputs": [],
   "source": [
    "# IMPORTs\n",
    "import numpy as np\n",
    "import pandas as pd\n",
    "\n",
    "from sklearn.preprocessing import OneHotEncoder\n",
    "from sklearn.model_selection import train_test_split\n",
    "from sklearn.metrics import mean_squared_error\n",
    "from sklearn.ensemble import GradientBoostingRegressor\n",
    "\n",
    "from sklearn.metrics import mean_absolute_error, mean_squared_error, r2_score"
   ]
  },
  {
   "cell_type": "markdown",
   "id": "89ddc692",
   "metadata": {},
   "source": [
    "## 1 - Data Loading and basic EDA"
   ]
  },
  {
   "cell_type": "code",
   "execution_count": 2,
   "id": "e755ebbc",
   "metadata": {
    "scrolled": true
   },
   "outputs": [
    {
     "data": {
      "text/html": [
       "<div>\n",
       "<style scoped>\n",
       "    .dataframe tbody tr th:only-of-type {\n",
       "        vertical-align: middle;\n",
       "    }\n",
       "\n",
       "    .dataframe tbody tr th {\n",
       "        vertical-align: top;\n",
       "    }\n",
       "\n",
       "    .dataframe thead th {\n",
       "        text-align: right;\n",
       "    }\n",
       "</style>\n",
       "<table border=\"1\" class=\"dataframe\">\n",
       "  <thead>\n",
       "    <tr style=\"text-align: right;\">\n",
       "      <th></th>\n",
       "      <th>uid</th>\n",
       "      <th>city</th>\n",
       "      <th>description</th>\n",
       "      <th>homeType</th>\n",
       "      <th>latitude</th>\n",
       "      <th>longitude</th>\n",
       "      <th>garageSpaces</th>\n",
       "      <th>hasSpa</th>\n",
       "      <th>yearBuilt</th>\n",
       "      <th>numOfPatioAndPorchFeatures</th>\n",
       "      <th>lotSizeSqFt</th>\n",
       "      <th>avgSchoolRating</th>\n",
       "      <th>MedianStudentsPerTeacher</th>\n",
       "      <th>numOfBathrooms</th>\n",
       "      <th>numOfBedrooms</th>\n",
       "      <th>priceRange</th>\n",
       "    </tr>\n",
       "  </thead>\n",
       "  <tbody>\n",
       "    <tr>\n",
       "      <th>0</th>\n",
       "      <td>1748</td>\n",
       "      <td>austin</td>\n",
       "      <td>MULTIPLE OFFERS submit best &amp; final to Agent b...</td>\n",
       "      <td>Single Family</td>\n",
       "      <td>30.380089</td>\n",
       "      <td>-97.800621</td>\n",
       "      <td>0</td>\n",
       "      <td>False</td>\n",
       "      <td>1988</td>\n",
       "      <td>0</td>\n",
       "      <td>102366.0</td>\n",
       "      <td>7.000000</td>\n",
       "      <td>17</td>\n",
       "      <td>4.0</td>\n",
       "      <td>4</td>\n",
       "      <td>650000+</td>\n",
       "    </tr>\n",
       "    <tr>\n",
       "      <th>1</th>\n",
       "      <td>13380</td>\n",
       "      <td>austin</td>\n",
       "      <td>4644 Hoffman Dr, Austin, TX 78749 is a single ...</td>\n",
       "      <td>Single Family</td>\n",
       "      <td>30.199486</td>\n",
       "      <td>-97.859947</td>\n",
       "      <td>0</td>\n",
       "      <td>False</td>\n",
       "      <td>1997</td>\n",
       "      <td>0</td>\n",
       "      <td>6534.0</td>\n",
       "      <td>6.666667</td>\n",
       "      <td>16</td>\n",
       "      <td>3.0</td>\n",
       "      <td>4</td>\n",
       "      <td>350000-450000</td>\n",
       "    </tr>\n",
       "    <tr>\n",
       "      <th>2</th>\n",
       "      <td>4115</td>\n",
       "      <td>austin</td>\n",
       "      <td>6804 Canal St, Austin, TX 78741 is a single fa...</td>\n",
       "      <td>Single Family</td>\n",
       "      <td>30.227398</td>\n",
       "      <td>-97.696083</td>\n",
       "      <td>0</td>\n",
       "      <td>False</td>\n",
       "      <td>1952</td>\n",
       "      <td>0</td>\n",
       "      <td>5619.0</td>\n",
       "      <td>3.333333</td>\n",
       "      <td>11</td>\n",
       "      <td>1.0</td>\n",
       "      <td>2</td>\n",
       "      <td>0-250000</td>\n",
       "    </tr>\n",
       "  </tbody>\n",
       "</table>\n",
       "</div>"
      ],
      "text/plain": [
       "     uid    city                                        description  \\\n",
       "0   1748  austin  MULTIPLE OFFERS submit best & final to Agent b...   \n",
       "1  13380  austin  4644 Hoffman Dr, Austin, TX 78749 is a single ...   \n",
       "2   4115  austin  6804 Canal St, Austin, TX 78741 is a single fa...   \n",
       "\n",
       "        homeType   latitude  longitude  garageSpaces  hasSpa  yearBuilt  \\\n",
       "0  Single Family  30.380089 -97.800621             0   False       1988   \n",
       "1  Single Family  30.199486 -97.859947             0   False       1997   \n",
       "2  Single Family  30.227398 -97.696083             0   False       1952   \n",
       "\n",
       "   numOfPatioAndPorchFeatures  lotSizeSqFt  avgSchoolRating  \\\n",
       "0                           0     102366.0         7.000000   \n",
       "1                           0       6534.0         6.666667   \n",
       "2                           0       5619.0         3.333333   \n",
       "\n",
       "   MedianStudentsPerTeacher  numOfBathrooms  numOfBedrooms     priceRange  \n",
       "0                        17             4.0              4        650000+  \n",
       "1                        16             3.0              4  350000-450000  \n",
       "2                        11             1.0              2       0-250000  "
      ]
     },
     "execution_count": 2,
     "metadata": {},
     "output_type": "execute_result"
    }
   ],
   "source": [
    "# Data Loading\n",
    "df = pd.read_csv(\"train.csv\")\n",
    "df.head(3)"
   ]
  },
  {
   "cell_type": "code",
   "execution_count": 3,
   "id": "ab0ff486",
   "metadata": {},
   "outputs": [
    {
     "data": {
      "text/html": [
       "<div>\n",
       "<style scoped>\n",
       "    .dataframe tbody tr th:only-of-type {\n",
       "        vertical-align: middle;\n",
       "    }\n",
       "\n",
       "    .dataframe tbody tr th {\n",
       "        vertical-align: top;\n",
       "    }\n",
       "\n",
       "    .dataframe thead th {\n",
       "        text-align: right;\n",
       "    }\n",
       "</style>\n",
       "<table border=\"1\" class=\"dataframe\">\n",
       "  <thead>\n",
       "    <tr style=\"text-align: right;\">\n",
       "      <th></th>\n",
       "      <th>uid</th>\n",
       "      <th>latitude</th>\n",
       "      <th>longitude</th>\n",
       "      <th>garageSpaces</th>\n",
       "      <th>yearBuilt</th>\n",
       "      <th>numOfPatioAndPorchFeatures</th>\n",
       "      <th>lotSizeSqFt</th>\n",
       "      <th>avgSchoolRating</th>\n",
       "      <th>MedianStudentsPerTeacher</th>\n",
       "      <th>numOfBathrooms</th>\n",
       "      <th>numOfBedrooms</th>\n",
       "    </tr>\n",
       "  </thead>\n",
       "  <tbody>\n",
       "    <tr>\n",
       "      <th>count</th>\n",
       "      <td>10000.000000</td>\n",
       "      <td>10000.000000</td>\n",
       "      <td>10000.000000</td>\n",
       "      <td>10000.000000</td>\n",
       "      <td>10000.000000</td>\n",
       "      <td>10000.000000</td>\n",
       "      <td>1.000000e+04</td>\n",
       "      <td>10000.000000</td>\n",
       "      <td>10000.000000</td>\n",
       "      <td>10000.000000</td>\n",
       "      <td>10000.000000</td>\n",
       "    </tr>\n",
       "    <tr>\n",
       "      <th>mean</th>\n",
       "      <td>7626.621900</td>\n",
       "      <td>30.291191</td>\n",
       "      <td>-97.778476</td>\n",
       "      <td>1.229600</td>\n",
       "      <td>1988.570400</td>\n",
       "      <td>0.667200</td>\n",
       "      <td>2.071028e+04</td>\n",
       "      <td>5.766236</td>\n",
       "      <td>14.857700</td>\n",
       "      <td>2.692100</td>\n",
       "      <td>3.449200</td>\n",
       "    </tr>\n",
       "    <tr>\n",
       "      <th>std</th>\n",
       "      <td>4380.486852</td>\n",
       "      <td>0.097075</td>\n",
       "      <td>0.084543</td>\n",
       "      <td>1.328179</td>\n",
       "      <td>21.515272</td>\n",
       "      <td>0.986378</td>\n",
       "      <td>4.488338e+05</td>\n",
       "      <td>1.861940</td>\n",
       "      <td>1.748473</td>\n",
       "      <td>0.979206</td>\n",
       "      <td>0.813441</td>\n",
       "    </tr>\n",
       "    <tr>\n",
       "      <th>min</th>\n",
       "      <td>1.000000</td>\n",
       "      <td>30.085030</td>\n",
       "      <td>-98.020477</td>\n",
       "      <td>0.000000</td>\n",
       "      <td>1905.000000</td>\n",
       "      <td>0.000000</td>\n",
       "      <td>1.000000e+02</td>\n",
       "      <td>2.333333</td>\n",
       "      <td>10.000000</td>\n",
       "      <td>1.000000</td>\n",
       "      <td>1.000000</td>\n",
       "    </tr>\n",
       "    <tr>\n",
       "      <th>25%</th>\n",
       "      <td>3838.750000</td>\n",
       "      <td>30.202516</td>\n",
       "      <td>-97.838594</td>\n",
       "      <td>0.000000</td>\n",
       "      <td>1975.000000</td>\n",
       "      <td>0.000000</td>\n",
       "      <td>6.534000e+03</td>\n",
       "      <td>4.000000</td>\n",
       "      <td>14.000000</td>\n",
       "      <td>2.000000</td>\n",
       "      <td>3.000000</td>\n",
       "    </tr>\n",
       "    <tr>\n",
       "      <th>50%</th>\n",
       "      <td>7603.500000</td>\n",
       "      <td>30.283664</td>\n",
       "      <td>-97.769680</td>\n",
       "      <td>1.000000</td>\n",
       "      <td>1993.000000</td>\n",
       "      <td>0.000000</td>\n",
       "      <td>8.189000e+03</td>\n",
       "      <td>5.666667</td>\n",
       "      <td>15.000000</td>\n",
       "      <td>3.000000</td>\n",
       "      <td>3.000000</td>\n",
       "    </tr>\n",
       "    <tr>\n",
       "      <th>75%</th>\n",
       "      <td>11435.750000</td>\n",
       "      <td>30.366375</td>\n",
       "      <td>-97.718313</td>\n",
       "      <td>2.000000</td>\n",
       "      <td>2006.000000</td>\n",
       "      <td>1.000000</td>\n",
       "      <td>1.089000e+04</td>\n",
       "      <td>7.000000</td>\n",
       "      <td>16.000000</td>\n",
       "      <td>3.000000</td>\n",
       "      <td>4.000000</td>\n",
       "    </tr>\n",
       "    <tr>\n",
       "      <th>max</th>\n",
       "      <td>15170.000000</td>\n",
       "      <td>30.517323</td>\n",
       "      <td>-97.570633</td>\n",
       "      <td>22.000000</td>\n",
       "      <td>2020.000000</td>\n",
       "      <td>8.000000</td>\n",
       "      <td>3.415452e+07</td>\n",
       "      <td>9.500000</td>\n",
       "      <td>19.000000</td>\n",
       "      <td>10.000000</td>\n",
       "      <td>10.000000</td>\n",
       "    </tr>\n",
       "  </tbody>\n",
       "</table>\n",
       "</div>"
      ],
      "text/plain": [
       "                uid      latitude     longitude  garageSpaces     yearBuilt  \\\n",
       "count  10000.000000  10000.000000  10000.000000  10000.000000  10000.000000   \n",
       "mean    7626.621900     30.291191    -97.778476      1.229600   1988.570400   \n",
       "std     4380.486852      0.097075      0.084543      1.328179     21.515272   \n",
       "min        1.000000     30.085030    -98.020477      0.000000   1905.000000   \n",
       "25%     3838.750000     30.202516    -97.838594      0.000000   1975.000000   \n",
       "50%     7603.500000     30.283664    -97.769680      1.000000   1993.000000   \n",
       "75%    11435.750000     30.366375    -97.718313      2.000000   2006.000000   \n",
       "max    15170.000000     30.517323    -97.570633     22.000000   2020.000000   \n",
       "\n",
       "       numOfPatioAndPorchFeatures   lotSizeSqFt  avgSchoolRating  \\\n",
       "count                10000.000000  1.000000e+04     10000.000000   \n",
       "mean                     0.667200  2.071028e+04         5.766236   \n",
       "std                      0.986378  4.488338e+05         1.861940   \n",
       "min                      0.000000  1.000000e+02         2.333333   \n",
       "25%                      0.000000  6.534000e+03         4.000000   \n",
       "50%                      0.000000  8.189000e+03         5.666667   \n",
       "75%                      1.000000  1.089000e+04         7.000000   \n",
       "max                      8.000000  3.415452e+07         9.500000   \n",
       "\n",
       "       MedianStudentsPerTeacher  numOfBathrooms  numOfBedrooms  \n",
       "count              10000.000000    10000.000000   10000.000000  \n",
       "mean                  14.857700        2.692100       3.449200  \n",
       "std                    1.748473        0.979206       0.813441  \n",
       "min                   10.000000        1.000000       1.000000  \n",
       "25%                   14.000000        2.000000       3.000000  \n",
       "50%                   15.000000        3.000000       3.000000  \n",
       "75%                   16.000000        3.000000       4.000000  \n",
       "max                   19.000000       10.000000      10.000000  "
      ]
     },
     "execution_count": 3,
     "metadata": {},
     "output_type": "execute_result"
    }
   ],
   "source": [
    "df.describe()"
   ]
  },
  {
   "cell_type": "code",
   "execution_count": 4,
   "id": "1821e1a4",
   "metadata": {},
   "outputs": [
    {
     "data": {
      "text/plain": [
       "uid                             int64\n",
       "city                           object\n",
       "description                    object\n",
       "homeType                       object\n",
       "latitude                      float64\n",
       "longitude                     float64\n",
       "garageSpaces                    int64\n",
       "hasSpa                           bool\n",
       "yearBuilt                       int64\n",
       "numOfPatioAndPorchFeatures      int64\n",
       "lotSizeSqFt                   float64\n",
       "avgSchoolRating               float64\n",
       "MedianStudentsPerTeacher        int64\n",
       "numOfBathrooms                float64\n",
       "numOfBedrooms                   int64\n",
       "priceRange                     object\n",
       "dtype: object"
      ]
     },
     "execution_count": 4,
     "metadata": {},
     "output_type": "execute_result"
    }
   ],
   "source": [
    "df.dtypes"
   ]
  },
  {
   "cell_type": "markdown",
   "id": "e74154a0",
   "metadata": {},
   "source": [
    "---"
   ]
  },
  {
   "cell_type": "code",
   "execution_count": 5,
   "id": "84bedb8d",
   "metadata": {},
   "outputs": [],
   "source": [
    "# df.isnull().sum()"
   ]
  },
  {
   "cell_type": "code",
   "execution_count": 6,
   "id": "e61352f2",
   "metadata": {},
   "outputs": [
    {
     "data": {
      "text/plain": [
       "250000-350000    2356\n",
       "350000-450000    2301\n",
       "450000-650000    2275\n",
       "650000+          1819\n",
       "0-250000         1249\n",
       "Name: priceRange, dtype: int64"
      ]
     },
     "execution_count": 6,
     "metadata": {},
     "output_type": "execute_result"
    }
   ],
   "source": [
    "df['priceRange'].value_counts()"
   ]
  },
  {
   "cell_type": "markdown",
   "id": "567dcc32",
   "metadata": {},
   "source": [
    "---"
   ]
  },
  {
   "cell_type": "markdown",
   "id": "4f3ea2f2",
   "metadata": {},
   "source": [
    "## 2 - Data PreProcessing"
   ]
  },
  {
   "cell_type": "code",
   "execution_count": 7,
   "id": "545ba35a",
   "metadata": {},
   "outputs": [],
   "source": [
    "# Treat priceRange as pure number/string for now.\n",
    "\n",
    "# Test priceRange as CATEGORICAL AS WELL."
   ]
  },
  {
   "cell_type": "code",
   "execution_count": 8,
   "id": "ce6757c0",
   "metadata": {},
   "outputs": [],
   "source": [
    "# Drop unecessary columns\n",
    "df.drop(['uid', 'description'], axis=1, inplace=True)"
   ]
  },
  {
   "cell_type": "code",
   "execution_count": 9,
   "id": "10d60be8",
   "metadata": {
    "scrolled": false
   },
   "outputs": [
    {
     "name": "stderr",
     "output_type": "stream",
     "text": [
      "C:\\ProgramData\\Anaconda3\\lib\\site-packages\\sklearn\\preprocessing\\_encoders.py:868: FutureWarning: `sparse` was renamed to `sparse_output` in version 1.2 and will be removed in 1.4. `sparse_output` is ignored unless you leave `sparse` to its default value.\n",
      "  warnings.warn(\n"
     ]
    }
   ],
   "source": [
    "# Select categorical columns for one-hot encoding\n",
    "categorical_cols = ['homeType', 'hasSpa', 'city']\n",
    "\n",
    "# One-hot encoding for categorial columns\n",
    "encoder = OneHotEncoder(sparse=False, handle_unknown='ignore')\n",
    "X_encoded = pd.DataFrame(encoder.fit_transform(df[categorical_cols]))\n",
    "\n",
    "# Get unique categories for each column\n",
    "categories = [df[col].unique() for col in categorical_cols]\n",
    "\n",
    "# Create feature names for encoded columns\n",
    "encoded_features = [f\"{col}_{cat}\" for i, col in enumerate(categorical_cols) for cat in categories[i]]\n",
    "\n",
    "# Assign the columns to the encoded feature\n",
    "X_encoded.columns = encoded_features\n",
    "X = pd.concat([X_encoded, df.drop(categorical_cols + ['priceRange'], axis=1)], axis=1)\n",
    "\n",
    "y = df['priceRange'].astype('category').cat.codes"
   ]
  },
  {
   "cell_type": "markdown",
   "id": "3466db07",
   "metadata": {},
   "source": [
    "---"
   ]
  },
  {
   "cell_type": "markdown",
   "id": "f8431d8d",
   "metadata": {},
   "source": [
    "## 3 - ML Modelling"
   ]
  },
  {
   "cell_type": "code",
   "execution_count": 10,
   "id": "e2f9dc03",
   "metadata": {},
   "outputs": [
    {
     "data": {
      "text/plain": [
       "0.5129026047655806"
      ]
     },
     "execution_count": 10,
     "metadata": {},
     "output_type": "execute_result"
    }
   ],
   "source": [
    "# Split train and test sets\n",
    "X_train, X_test, y_train, y_test = train_test_split(X, y, test_size=0.2, random_state=42)\n",
    "\n",
    "# Test diferent models, RandomForest, GP Gaussian Processes, XGBoost, GradientBoosting \n",
    "model = GradientBoostingRegressor()\n",
    "\n",
    "# Train model with Fit. Train split 80/20\n",
    "model.fit(X_train, y_train)\n",
    "\n",
    "# Model Predict\n",
    "y_pred = model.predict(X_test)\n",
    "\n",
    "# Evaluate the model using MSE Mean Squared Error\n",
    "mse = mean_squared_error(y_test, y_pred)\n",
    "mse"
   ]
  },
  {
   "cell_type": "markdown",
   "id": "9a9308cb",
   "metadata": {},
   "source": [
    "### Model Evaluation"
   ]
  },
  {
   "cell_type": "code",
   "execution_count": 11,
   "id": "0149ccf0",
   "metadata": {
    "scrolled": true
   },
   "outputs": [
    {
     "name": "stdout",
     "output_type": "stream",
     "text": [
      "R2:  0.6929057457644421\n",
      "MAE:  0.5406599119497171\n",
      "RMSE:  0.7161721893271062\n"
     ]
    }
   ],
   "source": [
    "# Model accuracy metrics\n",
    "r2 = r2_score(y_test,y_pred)\n",
    "mae = mean_absolute_error(y_test,y_pred)\n",
    "rmse = np.sqrt(mean_squared_error(y_test,y_pred))\n",
    "\n",
    "print('R2: ', r2)\n",
    "print('MAE: ', mae)\n",
    "print('RMSE: ', rmse)"
   ]
  },
  {
   "cell_type": "code",
   "execution_count": 12,
   "id": "b926108a",
   "metadata": {},
   "outputs": [
    {
     "data": {
      "image/png": "[encoded data removed]",
      "text/plain": [
       "<Figure size 1000x700 with 1 Axes>"
      ]
     },
     "metadata": {},
     "output_type": "display_data"
    }
   ],
   "source": [
    "# Feature importance\n",
    "\n",
    "import matplotlib.pyplot as plt\n",
    "\n",
    "feature_importances = model.feature_importances_\n",
    "\n",
    "features_names = X.columns\n",
    "\n",
    "# Sort Features\n",
    "sorted_indices = np.argsort(feature_importances)[::1]\n",
    "sorted_importances = feature_importances[sorted_indices]\n",
    "sorted_names = features_names[sorted_indices]\n",
    "\n",
    "\n",
    "# Plot something\n",
    "plt.figure(figsize=(10,7))\n",
    "plt.barh(range(len(sorted_importances)), sorted_importances, align='center')\n",
    "plt.yticks(range(len(sorted_importances)), sorted_names)\n",
    "\n",
    "plt.xlabel('Feature importance')\n",
    "plt.ylabel('Feature')\n",
    "\n",
    "plt.title('Feature importance')\n",
    "plt.show()"
   ]
  },
  {
   "cell_type": "code",
   "execution_count": null,
   "id": "fe68bab9",
   "metadata": {},
   "outputs": [],
   "source": []
  },
  {
   "cell_type": "markdown",
   "id": "666f2334",
   "metadata": {},
   "source": [
    "There's a solid need for revision and tests on other model regressors.  \n",
    "At least XGBoost, and the great GP Gaussian Processes Regressor ( best from intuiton on this use case. )\n",
    "\n",
    "There's also a big issue with the TARGET (it has not being properly treated and adapted for better performance)\n",
    "\n",
    "I intend to come back to work on this with time.\n",
    "\n",
    "Such project would need at least 48h of work to be conclude satisfactorily.\n",
    "\n",
    "It all works though, including the deploy function/app.\n",
    "\n",
    "June 17th, 2023.\n",
    "Lucas Glasner Regis <lucasglasner@gmail.com>"
   ]
  },
  {
   "cell_type": "markdown",
   "id": "6b9d4fec",
   "metadata": {},
   "source": [
    "---"
   ]
  },
  {
   "cell_type": "markdown",
   "id": "308f5fd4",
   "metadata": {},
   "source": [
    "## 4 - Export Model"
   ]
  },
  {
   "cell_type": "code",
   "execution_count": 13,
   "id": "962940e4",
   "metadata": {},
   "outputs": [],
   "source": [
    "# Export model to .joblib pickle file"
   ]
  },
  {
   "cell_type": "code",
   "execution_count": 14,
   "id": "02779f95",
   "metadata": {},
   "outputs": [
    {
     "data": {
      "text/plain": [
       "['trained_model.joblib']"
      ]
     },
     "execution_count": 14,
     "metadata": {},
     "output_type": "execute_result"
    }
   ],
   "source": [
    "import joblib\n",
    "\n",
    "# Save model\n",
    "joblib.dump(model, 'trained_model.joblib')"
   ]
  },
  {
   "cell_type": "code",
   "execution_count": null,
   "id": "1211a4cb",
   "metadata": {},
   "outputs": [],
   "source": []
  },
  {
   "cell_type": "code",
   "execution_count": null,
   "id": "52e18f33",
   "metadata": {},
   "outputs": [],
   "source": []
  },
  {
   "cell_type": "code",
   "execution_count": null,
   "id": "70d6d546",
   "metadata": {},
   "outputs": [],
   "source": []
  },
  {
   "cell_type": "code",
   "execution_count": 15,
   "id": "e652d812",
   "metadata": {},
   "outputs": [],
   "source": [
    "# OK, it works, performance isn't best but it works.\n",
    "# OK. I'll test GaussianProcess as it is a favorite. But initially I'll conduct the evaluation of the model and go foward."
   ]
  },
  {
   "cell_type": "code",
   "execution_count": 16,
   "id": "8060e5f9",
   "metadata": {},
   "outputs": [],
   "source": [
    "# OK. MAE is definetly not best.\n",
    "# I'll follow through and come back to change it to numerical or TREAT / TRANSFORM the priceRange.\n",
    "\n",
    "# I think there's a CATCH in this project / Data Set = The priceRange has to be transformed. Well, treated in some way.\n",
    "# maybe average, maybe categories is not the best idea. OK This should work.\n",
    "\n",
    "# OK. Since the structure is working I'll follow and then comeback to think it thoroughly.\n",
    "\n",
    "# OK. I'll print feature importance and develop a deploy via JOBLIB first. "
   ]
  }
 ],
 "metadata": {
  "kernelspec": {
   "display_name": "Python 3 (ipykernel)",
   "language": "python",
   "name": "python3"
  },
  "language_info": {
   "codemirror_mode": {
    "name": "ipython",
    "version": 3
   },
   "file_extension": ".py",
   "mimetype": "text/x-python",
   "name": "python",
   "nbconvert_exporter": "python",
   "pygments_lexer": "ipython3",
   "version": "3.9.16"
  }
 },
 "nbformat": 4,
 "nbformat_minor": 5
}
